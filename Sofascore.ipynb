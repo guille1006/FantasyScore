{
 "cells": [
  {
   "cell_type": "markdown",
   "id": "f512e977",
   "metadata": {},
   "source": [
    "<div style=\"font-size: 3em; font-weight: bold; text-align: center;\">FANTASY SCORE</div>\n",
    "<div style=\"text-align: right; font-size: 24px; margin-right: 10px;\">Guillermo Díaz Aguado</div>\n"
   ]
  },
  {
   "cell_type": "code",
   "execution_count": 1,
   "id": "8650bf5e",
   "metadata": {},
   "outputs": [],
   "source": [
    "import requests \n",
    "from botasaurus.request import request, Request"
   ]
  },
  {
   "cell_type": "code",
   "execution_count": 2,
   "id": "5f78d69d",
   "metadata": {},
   "outputs": [],
   "source": [
    "API_PREFIX = 'https://api.sofascore.com/api/v1'\n",
    "\n",
    "comps = {\n",
    "    # European continental club comps\n",
    "    'Champions League': 7, 'Europa League': 679, 'Europa Conference League': 17015,\n",
    "    # European domestic leagues\n",
    "    'EPL': 17, 'La Liga': 8, 'Bundesliga': 35, 'Serie A': 23, 'Ligue 1': 34,\n",
    "    # South America\n",
    "    'Argentina Liga Profesional': 155, 'Argentina Copa de la Liga Profesional': 13475,\n",
    "    'Liga 1 Peru': 406, \"Copa Libertadores\": 384,\n",
    "    # USA\n",
    "    'MLS': 242, 'USL Championship': 13363, 'USL1': 13362, 'USL2': 13546,\n",
    "    # Middle East\n",
    "    \"Saudi Pro League\": 955,\n",
    "    # Men's international comps\n",
    "    'World Cup': 16, 'Euros': 1, 'Gold Cup': 140,\n",
    "    # Women's international comps\n",
    "    \"Women's World Cup\": 290\n",
    "}\n",
    "url =  f'{API_PREFIX}/unique-tournament/{comps[\"La Liga\"]}/seasons/'\n"
   ]
  },
  {
   "cell_type": "code",
   "execution_count": 3,
   "id": "755b425a",
   "metadata": {},
   "outputs": [],
   "source": [
    "req = Request()\n",
    "response = req.get(url=url)"
   ]
  },
  {
   "cell_type": "code",
   "execution_count": 4,
   "id": "412fded8",
   "metadata": {},
   "outputs": [
    {
     "data": {
      "text/plain": [
       "<Response [403]>"
      ]
     },
     "execution_count": 4,
     "metadata": {},
     "output_type": "execute_result"
    }
   ],
   "source": [
    "response"
   ]
  },
  {
   "cell_type": "code",
   "execution_count": 5,
   "id": "805fd1de",
   "metadata": {},
   "outputs": [],
   "source": [
    "from botasaurus.request import request, Request\n",
    "from botasaurus.browser import browser, Driver\n",
    "import json\n",
    "\n",
    "@request(output=None, create_error_logs=False)\n",
    "def botasaurus_request_get_json(request: Request, url: str) -> dict:\n",
    "    \"\"\" Use Botasaurus REQUESTS module to get JSON from page.\n",
    "\n",
    "    Parameters\n",
    "    ----------\n",
    "    request : botasaurus.request.Request\n",
    "        The request object provided by the botasaurus decorator\n",
    "    url : str\n",
    "        The URL to request\n",
    "\n",
    "    Returns\n",
    "    -------\n",
    "    dict\n",
    "    \"\"\"\n",
    "    if not isinstance(url, str):\n",
    "        raise TypeError('`url` must be a string.')\n",
    "    response = request.get(url)\n",
    "    result = response.json()\n",
    "    return result\n",
    "\n",
    "@browser(headless=True, output=None, create_error_logs=False, block_images_and_css=True)\n",
    "def botasaurus_browser_get_json(driver: Driver, url: str) -> dict:\n",
    "    \"\"\" Use Botasaurus BROWSER model to get JSON from page\n",
    "\n",
    "    Parameters\n",
    "    ----------\n",
    "    driver : botasaurus.browser.Driver\n",
    "        Browser object. Provided by Botasaurus decorator\n",
    "    url : str\n",
    "        The URL to scrape\n",
    "\n",
    "    Returns\n",
    "    -------\n",
    "    dict\n",
    "    \"\"\"\n",
    "    driver.get(url)\n",
    "    page_source = driver.page_text\n",
    "    result = json.loads(page_source)\n",
    "    return result\n",
    "\n",
    "def get_valid_seasons(league: str) -> dict:\n",
    "    \"\"\" Returns the valid seasons and their IDs for the given league\n",
    "\n",
    "    :param str league: .. include:: ./arg_docstrings/league.rst\n",
    "\n",
    "    :returns: Available seasons for the league. Season name is key, season ID is value.\n",
    "    :rtype: dict\n",
    "    \"\"\"\n",
    "    if not isinstance(league, str):\n",
    "        return\n",
    "    # if league not in comps.keys():\n",
    "    #     return \n",
    "\n",
    "    url = f'{API_PREFIX}/unique-tournament/{comps[league]}/seasons/'\n",
    "    response = botasaurus_browser_get_json(url)\n",
    "    seasons = dict([(x['year'], x['id']) for x in response['seasons']])\n",
    "    return seasons"
   ]
  },
  {
   "cell_type": "code",
   "execution_count": 6,
   "id": "30f98af7",
   "metadata": {},
   "outputs": [
    {
     "name": "stdout",
     "output_type": "stream",
     "text": [
      "Running\n"
     ]
    },
    {
     "data": {
      "text/plain": [
       "{'25/26': 77559,\n",
       " '24/25': 61643,\n",
       " '23/24': 52376,\n",
       " '22/23': 42409,\n",
       " '21/22': 37223,\n",
       " '20/21': 32501,\n",
       " '19/20': 24127,\n",
       " '18/19': 18020,\n",
       " '17/18': 13662,\n",
       " '16/17': 11906,\n",
       " '15/16': 10495,\n",
       " '14/15': 8578,\n",
       " '13/14': 6559,\n",
       " '12/13': 4959,\n",
       " '11/12': 3502,\n",
       " '10/11': 2896,\n",
       " '09/10': 2252,\n",
       " '08/09': 1587,\n",
       " '07/08': 669,\n",
       " '06/07': 102,\n",
       " '05/06': 101,\n",
       " '04/05': 100,\n",
       " '03/04': 99,\n",
       " '02/03': 70,\n",
       " '01/02': 71,\n",
       " '00/01': 72,\n",
       " '99/00': 73,\n",
       " '98/99': 74,\n",
       " '97/98': 75,\n",
       " '96/97': 25689,\n",
       " '95/96': 25690,\n",
       " '94/95': 25688,\n",
       " '93/94': 25687}"
      ]
     },
     "execution_count": 6,
     "metadata": {},
     "output_type": "execute_result"
    }
   ],
   "source": [
    "hee = get_valid_seasons('La Liga')\n",
    "hee"
   ]
  },
  {
   "cell_type": "code",
   "execution_count": null,
   "id": "930067af",
   "metadata": {},
   "outputs": [],
   "source": []
  }
 ],
 "metadata": {
  "kernelspec": {
   "display_name": "Python 3",
   "language": "python",
   "name": "python3"
  },
  "language_info": {
   "codemirror_mode": {
    "name": "ipython",
    "version": 3
   },
   "file_extension": ".py",
   "mimetype": "text/x-python",
   "name": "python",
   "nbconvert_exporter": "python",
   "pygments_lexer": "ipython3",
   "version": "3.12.2"
  }
 },
 "nbformat": 4,
 "nbformat_minor": 5
}
