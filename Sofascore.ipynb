{
 "cells": [
  {
   "cell_type": "markdown",
   "id": "f512e977",
   "metadata": {},
   "source": [
    "<div style=\"font-size: 3em; font-weight: bold; text-align: center;\">FANTASY SCORE</div>\n",
    "<div style=\"text-align: right; font-size: 24px; margin-right: 10px;\">Guillermo Díaz Aguado</div>\n"
   ]
  },
  {
   "cell_type": "code",
   "execution_count": null,
   "id": "8650bf5e",
   "metadata": {},
   "outputs": [],
   "source": [
    "import requests \n",
    "from botasaurus.request import request, Request"
   ]
  },
  {
   "cell_type": "code",
   "execution_count": 2,
   "id": "5f78d69d",
   "metadata": {},
   "outputs": [],
   "source": [
    "API_PREFIX = 'https://api.sofascore.com/api/v1'\n",
    "\n",
    "comps = {\n",
    "    # European continental club comps\n",
    "    'Champions League': 7, 'Europa League': 679, 'Europa Conference League': 17015,\n",
    "    # European domestic leagues\n",
    "    'EPL': 17, 'La Liga': 8, 'Bundesliga': 35, 'Serie A': 23, 'Ligue 1': 34,\n",
    "    # South America\n",
    "    'Argentina Liga Profesional': 155, 'Argentina Copa de la Liga Profesional': 13475,\n",
    "    'Liga 1 Peru': 406, \"Copa Libertadores\": 384,\n",
    "    # USA\n",
    "    'MLS': 242, 'USL Championship': 13363, 'USL1': 13362, 'USL2': 13546,\n",
    "    # Middle East\n",
    "    \"Saudi Pro League\": 955,\n",
    "    # Men's international comps\n",
    "    'World Cup': 16, 'Euros': 1, 'Gold Cup': 140,\n",
    "    # Women's international comps\n",
    "    \"Women's World Cup\": 290\n",
    "}\n",
    "url =  f'{API_PREFIX}/unique-tournament/{comps[\"La Liga\"]}/seasons/'\n"
   ]
  },
  {
   "cell_type": "code",
   "execution_count": 13,
   "id": "755b425a",
   "metadata": {},
   "outputs": [],
   "source": [
    "req = Request()\n",
    "response = req.get(url=url)"
   ]
  },
  {
   "cell_type": "code",
   "execution_count": 14,
   "id": "412fded8",
   "metadata": {},
   "outputs": [
    {
     "data": {
      "text/plain": [
       "<Response [403]>"
      ]
     },
     "execution_count": 14,
     "metadata": {},
     "output_type": "execute_result"
    }
   ],
   "source": [
    "response"
   ]
  },
  {
   "cell_type": "code",
   "execution_count": null,
   "id": "805fd1de",
   "metadata": {},
   "outputs": [],
   "source": []
  }
 ],
 "metadata": {
  "kernelspec": {
   "display_name": "Python 3",
   "language": "python",
   "name": "python3"
  },
  "language_info": {
   "codemirror_mode": {
    "name": "ipython",
    "version": 3
   },
   "file_extension": ".py",
   "mimetype": "text/x-python",
   "name": "python",
   "nbconvert_exporter": "python",
   "pygments_lexer": "ipython3",
   "version": "3.12.2"
  }
 },
 "nbformat": 4,
 "nbformat_minor": 5
}
