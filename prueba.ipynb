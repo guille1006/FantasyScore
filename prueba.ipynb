{
 "cells": [
  {
   "cell_type": "code",
   "execution_count": 1,
   "id": "262e7e3b",
   "metadata": {},
   "outputs": [],
   "source": [
    "import numpy as np\n",
    "from botasaurus.request import request, Request\n",
    "from botasaurus_requests.response import Response\n",
    "import json\n",
    "from typing import Union, Sequence\n",
    "from pymongo import MongoClient\n",
    "import matplotlib.pyplot as plt\n",
    "from scipy.stats import norm"
   ]
  },
  {
   "cell_type": "code",
   "execution_count": 2,
   "id": "fa37f1f8",
   "metadata": {},
   "outputs": [],
   "source": [
    "API_PREFIX = 'https://api.sofascore.com/api/v1'\n",
    "league_id = \"8\" # Identificador de Laliga\n",
    "season_id = \"61643\"\n",
    "\n",
    "\n",
    "LEAGUE_STATS_FIELDS = [\n",
    "    'goals', 'yellowCards', 'redCards', 'groundDuelsWon', 'groundDuelsWonPercentage',\n",
    "    'aerialDuelsWon', 'aerialDuelsWonPercentage', 'successfulDribbles',\n",
    "    'successfulDribblesPercentage', 'tackles', 'assists', 'accuratePassesPercentage',\n",
    "    'totalDuelsWon', 'totalDuelsWonPercentage', 'minutesPlayed', 'wasFouled', 'fouls',\n",
    "    'dispossessed', 'possesionLost', 'appearances', 'started', 'saves', 'cleanSheets',\n",
    "    'savedShotsFromInsideTheBox', 'savedShotsFromOutsideTheBox',\n",
    "    'goalsConcededInsideTheBox', 'goalsConcededOutsideTheBox', 'highClaims',\n",
    "    'successfulRunsOut', 'punches', 'runsOut', 'accurateFinalThirdPasses',\n",
    "    'bigChancesCreated', 'accuratePasses', 'keyPasses', 'accurateCrosses',\n",
    "    'accurateCrossesPercentage', 'accurateLongBalls', 'accurateLongBallsPercentage',\n",
    "    'interceptions', 'clearances', 'dribbledPast', 'bigChancesMissed', 'totalShots',\n",
    "    'shotsOnTarget', 'blockedShots', 'goalConversionPercentage', 'hitWoodwork', 'offsides',\n",
    "    'expectedGoals', 'errorLeadToGoal', 'errorLeadToShot', 'passToAssist'\n",
    "]\n",
    "concatenated_fields = '%2C'.join(LEAGUE_STATS_FIELDS)\n",
    "\n",
    "comps = {\n",
    "    # European continental club comps\n",
    "    'Champions League': 7, 'Europa League': 679, 'Europa Conference League': 17015,\n",
    "    # European domestic leagues\n",
    "    'EPL': 17, 'La Liga': 8, 'Bundesliga': 35, 'Serie A': 23, 'Ligue 1': 34,\n",
    "    # South America\n",
    "    'Argentina Liga Profesional': 155, 'Argentina Copa de la Liga Profesional': 13475,\n",
    "    'Liga 1 Peru': 406, \"Copa Libertadores\": 384,\n",
    "    # USA\n",
    "    'MLS': 242, 'USL Championship': 13363, 'USL1': 13362, 'USL2': 13546,\n",
    "    # Middle East\n",
    "    \"Saudi Pro League\": 955,\n",
    "    # Men's international comps\n",
    "    'World Cup': 16, 'Euros': 1, 'Gold Cup': 140,\n",
    "    # Women's international comps\n",
    "    \"Women's World Cup\": 290\n",
    "}"
   ]
  },
  {
   "cell_type": "code",
   "execution_count": 3,
   "id": "8789a17c",
   "metadata": {},
   "outputs": [],
   "source": [
    "@request(output=None, create_error_logs=False)\n",
    "def botasaurus_get(req: Request, url: str) -> Response:\n",
    "    \"\"\" General purpose \"get\" function that uses Botasaurus.\n",
    "    \n",
    "    Parameters\n",
    "    ----------\n",
    "    req : botasaurus.request.Request\n",
    "        The request object provided by the botasaurus decorator\n",
    "    url : str\n",
    "        The URL to request\n",
    "        \n",
    "    Returns\n",
    "    -------\n",
    "    botasaurus_requests.response.Response\n",
    "        The response from the request\n",
    "    \"\"\"\n",
    "    if not isinstance(url, str):\n",
    "        raise TypeError('`url` must be a string.')\n",
    "    resp = req.get(url)\n",
    "    return resp"
   ]
  },
  {
   "cell_type": "code",
   "execution_count": 10,
   "id": "0619efa9",
   "metadata": {},
   "outputs": [],
   "source": [
    "def get_valid_seasons(league: str) -> dict:\n",
    "    \"\"\" Returns the valid seasons and their IDs for the given league\n",
    "\n",
    "    Parameters\n",
    "    ----------\n",
    "    league : str\n",
    "        League to get valid seasons for. See comps ScraperFC.Sofascore for valid leagues.\n",
    "    \n",
    "    Returns\n",
    "    -------\n",
    "    seasons : dict\n",
    "        Available seasons for the league. {season string: season ID, ...}\n",
    "    \"\"\"\n",
    "        \n",
    "    response = botasaurus_get(f'{API_PREFIX}/unique-tournament/{comps[league]}/seasons/')\n",
    "    seasons = dict([(x['year'], x['id']) for x in response.json()['seasons']])\n",
    "    return seasons"
   ]
  },
  {
   "cell_type": "code",
   "execution_count": 11,
   "id": "94940b58",
   "metadata": {},
   "outputs": [],
   "source": [
    "def get_match_dicts(year: str, league:str) -> Sequence[dict]:\n",
    "    \"\"\" Returns the matches from the Sofascore API for a given league season.\n",
    "\n",
    "    Parameters\n",
    "    ----------\n",
    "    year : str\n",
    "        See the :ref:`sofascore_year` `year` parameter docs for details.\n",
    "    league : str\n",
    "        League to get valid seasons for. See comps ScraperFC.Sofascore for valid leagues.\n",
    "    \n",
    "    Returns\n",
    "    -------\n",
    "    matches : list of dict\n",
    "        Each element being a single game of the competition\n",
    "    \"\"\"\n",
    "    valid_seasons = get_valid_seasons(league)\n",
    "\n",
    "    matches = list()\n",
    "    i = 0\n",
    "    while 1:\n",
    "        response = botasaurus_get(\n",
    "            f'{API_PREFIX}/unique-tournament/{comps[league]}/season/{valid_seasons[year]}/' +\n",
    "            f'events/last/{i}'\n",
    "        )\n",
    "        if response.status_code != 200:\n",
    "            break\n",
    "        matches += response.json()['events']\n",
    "        i += 1\n",
    "\n",
    "    return matches"
   ]
  },
  {
   "cell_type": "code",
   "execution_count": 12,
   "id": "0ba60f52",
   "metadata": {},
   "outputs": [
    {
     "ename": "KeyError",
     "evalue": "'seasons'",
     "output_type": "error",
     "traceback": [
      "\u001b[1;31m---------------------------------------------------------------------------\u001b[0m",
      "\u001b[1;31mKeyError\u001b[0m                                  Traceback (most recent call last)",
      "Cell \u001b[1;32mIn[12], line 1\u001b[0m\n\u001b[1;32m----> 1\u001b[0m partidos_en_temporada \u001b[38;5;241m=\u001b[39m \u001b[43mget_match_dicts\u001b[49m\u001b[43m(\u001b[49m\u001b[38;5;124;43m\"\u001b[39;49m\u001b[38;5;124;43m24/25\u001b[39;49m\u001b[38;5;124;43m\"\u001b[39;49m\u001b[43m,\u001b[49m\u001b[43m \u001b[49m\u001b[38;5;124;43m\"\u001b[39;49m\u001b[38;5;124;43mLa Liga\u001b[39;49m\u001b[38;5;124;43m\"\u001b[39;49m\u001b[43m)\u001b[49m\n\u001b[0;32m      3\u001b[0m \u001b[38;5;28mprint\u001b[39m(json\u001b[38;5;241m.\u001b[39mdumps(partidos_en_temporada, indent\u001b[38;5;241m=\u001b[39m\u001b[38;5;241m4\u001b[39m))\n",
      "Cell \u001b[1;32mIn[11], line 16\u001b[0m, in \u001b[0;36mget_match_dicts\u001b[1;34m(year, league)\u001b[0m\n\u001b[0;32m      1\u001b[0m \u001b[38;5;28;01mdef\u001b[39;00m \u001b[38;5;21mget_match_dicts\u001b[39m(year: \u001b[38;5;28mstr\u001b[39m, league:\u001b[38;5;28mstr\u001b[39m) \u001b[38;5;241m-\u001b[39m\u001b[38;5;241m>\u001b[39m Sequence[\u001b[38;5;28mdict\u001b[39m]:\n\u001b[0;32m      2\u001b[0m \u001b[38;5;250m    \u001b[39m\u001b[38;5;124;03m\"\"\" Returns the matches from the Sofascore API for a given league season.\u001b[39;00m\n\u001b[0;32m      3\u001b[0m \n\u001b[0;32m      4\u001b[0m \u001b[38;5;124;03m    Parameters\u001b[39;00m\n\u001b[1;32m   (...)\u001b[0m\n\u001b[0;32m     14\u001b[0m \u001b[38;5;124;03m        Each element being a single game of the competition\u001b[39;00m\n\u001b[0;32m     15\u001b[0m \u001b[38;5;124;03m    \"\"\"\u001b[39;00m\n\u001b[1;32m---> 16\u001b[0m     valid_seasons \u001b[38;5;241m=\u001b[39m \u001b[43mget_valid_seasons\u001b[49m\u001b[43m(\u001b[49m\u001b[43mleague\u001b[49m\u001b[43m)\u001b[49m\n\u001b[0;32m     18\u001b[0m     matches \u001b[38;5;241m=\u001b[39m \u001b[38;5;28mlist\u001b[39m()\n\u001b[0;32m     19\u001b[0m     i \u001b[38;5;241m=\u001b[39m \u001b[38;5;241m0\u001b[39m\n",
      "Cell \u001b[1;32mIn[10], line 16\u001b[0m, in \u001b[0;36mget_valid_seasons\u001b[1;34m(league)\u001b[0m\n\u001b[0;32m      2\u001b[0m \u001b[38;5;250m\u001b[39m\u001b[38;5;124;03m\"\"\" Returns the valid seasons and their IDs for the given league\u001b[39;00m\n\u001b[0;32m      3\u001b[0m \n\u001b[0;32m      4\u001b[0m \u001b[38;5;124;03mParameters\u001b[39;00m\n\u001b[1;32m   (...)\u001b[0m\n\u001b[0;32m     12\u001b[0m \u001b[38;5;124;03m    Available seasons for the league. {season string: season ID, ...}\u001b[39;00m\n\u001b[0;32m     13\u001b[0m \u001b[38;5;124;03m\"\"\"\u001b[39;00m\n\u001b[0;32m     15\u001b[0m response \u001b[38;5;241m=\u001b[39m botasaurus_get(\u001b[38;5;124mf\u001b[39m\u001b[38;5;124m'\u001b[39m\u001b[38;5;132;01m{\u001b[39;00mAPI_PREFIX\u001b[38;5;132;01m}\u001b[39;00m\u001b[38;5;124m/unique-tournament/\u001b[39m\u001b[38;5;132;01m{\u001b[39;00mcomps[league]\u001b[38;5;132;01m}\u001b[39;00m\u001b[38;5;124m/seasons/\u001b[39m\u001b[38;5;124m'\u001b[39m)\n\u001b[1;32m---> 16\u001b[0m seasons \u001b[38;5;241m=\u001b[39m \u001b[38;5;28mdict\u001b[39m([(x[\u001b[38;5;124m'\u001b[39m\u001b[38;5;124myear\u001b[39m\u001b[38;5;124m'\u001b[39m], x[\u001b[38;5;124m'\u001b[39m\u001b[38;5;124mid\u001b[39m\u001b[38;5;124m'\u001b[39m]) \u001b[38;5;28;01mfor\u001b[39;00m x \u001b[38;5;129;01min\u001b[39;00m \u001b[43mresponse\u001b[49m\u001b[38;5;241;43m.\u001b[39;49m\u001b[43mjson\u001b[49m\u001b[43m(\u001b[49m\u001b[43m)\u001b[49m\u001b[43m[\u001b[49m\u001b[38;5;124;43m'\u001b[39;49m\u001b[38;5;124;43mseasons\u001b[39;49m\u001b[38;5;124;43m'\u001b[39;49m\u001b[43m]\u001b[49m])\n\u001b[0;32m     17\u001b[0m \u001b[38;5;28;01mreturn\u001b[39;00m seasons\n",
      "\u001b[1;31mKeyError\u001b[0m: 'seasons'"
     ]
    }
   ],
   "source": [
    "partidos_en_temporada = get_match_dicts(\"24/25\", \"La Liga\")\n",
    "\n",
    "print(json.dumps(partidos_en_temporada, indent=4))"
   ]
  },
  {
   "cell_type": "code",
   "execution_count": null,
   "id": "608bdd42",
   "metadata": {},
   "outputs": [],
   "source": []
  }
 ],
 "metadata": {
  "kernelspec": {
   "display_name": "Python 3",
   "language": "python",
   "name": "python3"
  },
  "language_info": {
   "codemirror_mode": {
    "name": "ipython",
    "version": 3
   },
   "file_extension": ".py",
   "mimetype": "text/x-python",
   "name": "python",
   "nbconvert_exporter": "python",
   "pygments_lexer": "ipython3",
   "version": "3.12.2"
  }
 },
 "nbformat": 4,
 "nbformat_minor": 5
}
